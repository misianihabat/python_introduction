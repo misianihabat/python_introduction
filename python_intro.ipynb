{
 "cells": [
  {
   "cell_type": "markdown",
   "metadata": {},
   "source": [
    "# National Training Workshop: Introduction to Python for Station and Grided Data Analysis"
   ]
  },
  {
   "cell_type": "markdown",
   "metadata": {},
   "source": [
    "<div class=\"alert alert-block alert-info\">\n",
    "Written by <b>Herbert O. Misiani </b> (Herbert.Misiani@igad.int ) \n",
    "</div>"
   ]
  },
  {
   "cell_type": "markdown",
   "metadata": {},
   "source": [
    "## 1. Python Basics\n",
    "We are going to start with the basics in python.\n",
    "The order in which Python processes the operators follows the mathematical principles; BODMAS."
   ]
  },
  {
   "cell_type": "code",
   "execution_count": 1,
   "metadata": {},
   "outputs": [],
   "source": [
    "#Arithmetic operation\n",
    "\n",
    "#2 + 3 * 3         ## \n",
    "#2-(2 + 3) * 3\n",
    "#1 + 2 ** 2\n",
    "#2 / 2 * 8\n",
    "\n",
    "## Using the underscore to get previous result\n",
    "\n",
    "#3 * 3\n",
    "#_ + 3"
   ]
  },
  {
   "cell_type": "markdown",
   "metadata": {},
   "source": [
    "**Variables:** are reserved memory locations to store values. Used to store results"
   ]
  },
  {
   "cell_type": "code",
   "execution_count": null,
   "metadata": {},
   "outputs": [],
   "source": [
    "## Assigning values to various variables\n",
    "\n",
    "#x=5;y=4\n",
    "#Addis_Temp = [7,16,3.5,-8]\n",
    "#type(x)\n",
    "#y = -3; y\n",
    "#z = x + y\n",
    "#a,b,c = 1, 2, “apple”\n"
   ]
  },
  {
   "cell_type": "markdown",
   "metadata": {},
   "source": [
    "**String:** A string in Python is a sequence of characters\n"
   ]
  },
  {
   "cell_type": "code",
   "execution_count": null,
   "metadata": {},
   "outputs": [],
   "source": [
    "## Performing some string operations\n",
    "\n",
    "#'Hello, World’         \n",
    "#b= '1'; type(b) \n",
    "#c=1; type(c)\n",
    "#'My name is: ' + 'John Doe'\n",
    "#'a' + 'b'\n",
    "#\"a\" + \"b\"\n",
    "#'ab' * 4"
   ]
  },
  {
   "cell_type": "markdown",
   "metadata": {},
   "source": [
    "### Python Data Types\n",
    "\n",
    "The basic data types in Python are:\n",
    "1. Integers (1, 2, 4…)\n",
    "2. Floating point numbers (97.98, 32.3+e18, -32.54e100)\n",
    "3. Complex numbers (3+7j)\n",
    "4. Booleans (True, False)\n",
    "5. Strings (‘ab’, ‘temperature_data_1981-2010.nc’)\n",
    "\n",
    "#### Advanced Python data types\n",
    "    - Lists (defined by square brackets)\n",
    "    - temp=[12.4, 10.4, 11.9, 15]\n",
    "    - Tuples (tuples cannot be changed unlike lists use parenthesis): x=(4, 2, 6, 8)\n",
    "    - Dictionaries: dict = {‘Name’: ‘Jane Doe’, ‘Age’: 140, ‘Class’: ’First’}"
   ]
  },
  {
   "cell_type": "markdown",
   "metadata": {},
   "source": [
    "### Modules\n",
    "\n",
    "A module is a Python object with arbitrarily named attributes that you can bind and reference. Simply, a module is a file consisting of Python code. A module can define functions, classes and variables. A module can also include runnable code. First you need to install the module require. In Anaconda the code usually takes the form:\n",
    "\n",
    "    >> conda install module_name\n",
    "\n",
    "You can use any Python source file as a module by executing an import statement in some other Python source file. The import has the following syntax \n",
    "\n",
    "    >> import(module_name)\n",
    "\n",
    "To import specific attributes from a module into the current namespace\n",
    "\n",
    "    >> from fib import fibonacci "
   ]
  },
  {
   "cell_type": "markdown",
   "metadata": {},
   "source": [
    "### The dir( ) & help() Functions\n",
    "\n",
    "The dir() built-in function returns a sorted list of strings containing the names defined by a module. The list contains the names of all the modules, variables and functions that are defined in a module.\n",
    "\n",
    "The help() function on the other hands enables you to access additional details on how to use specific functions of the module.\n",
    "\n",
    "#### First install the module\n",
    "\n",
    "First install the Module, then import it into the Python environment, then finally use dir() and help() functions to know more details about the module and how to use it's various functions.\n",
    "\n",
    "    >> conda install xarray\n",
    "    >> import xarray as xr\n",
    "    >> dir(xr)\n",
    "    >> help(xr.read_dataset)"
   ]
  },
  {
   "cell_type": "code",
   "execution_count": null,
   "metadata": {},
   "outputs": [],
   "source": [
    "## Install the statistics package\n",
    "conda install statistics\n",
    "\n",
    "# Importing the statistics module\n",
    "import statistics as stats\n",
    "\n",
    "dir(stats)\n",
    "help(stats.mean)\n",
    "\n",
    "# list of positive integer numbers\n",
    "data1 = [1, 3, 4, 5, 7, 9, 2]\n",
    " \n",
    "x = stats.mean(data1)\n",
    " \n",
    "# Printing the mean\n",
    "print(\"Mean is :\", x)\n"
   ]
  },
  {
   "cell_type": "markdown",
   "metadata": {},
   "source": [
    "## 2. Reading Station Data (.csv) and Performing Analysis"
   ]
  },
  {
   "cell_type": "markdown",
   "metadata": {},
   "source": [
    "This section will focus on analysing text data which can be represented by a normal excel file or other text formats delimited by either tab (.tsv), space or comma (.csv). The section will look at how to summarize the data, do simple statistics and plot some of the results."
   ]
  },
  {
   "cell_type": "code",
   "execution_count": 1,
   "metadata": {},
   "outputs": [],
   "source": [
    "## Import the necessary libraries to enable us perform our analysis\n",
    "import pandas as pd\n",
    "import numpy as np\n",
    "import matplotlib.pyplot as plt"
   ]
  },
  {
   "cell_type": "code",
   "execution_count": 2,
   "metadata": {},
   "outputs": [],
   "source": [
    "## Define the data path\n",
    "\n",
    "home_dir = 'D:/Personal_Work/LVBC_Work/lvbc_training/Climate_Change_Training/'\n",
    "data_dir = 'data/'\n",
    "#obs_dir = 'obs/'\n",
    "out_dir = 'data_out/'\n",
    "plot_dir = 'plots/'"
   ]
  },
  {
   "cell_type": "code",
   "execution_count": 48,
   "metadata": {},
   "outputs": [],
   "source": [
    "## Read in the data using the appropriate Library and by defining the correct path\n",
    "\n",
    "stn_ds = pd.read_csv(home_dir + data_dir + 'obs/' + 'cru_ts3.tmn.1951-2013.csv')\n",
    "#stn_ds             ## Prints out a sample of the data\n",
    "#stn_ds.info()      ## describe your data\n",
    "#stn_ds.columns     ## Check the column headers\n",
    "#stn_ds.shape       ## Check the number of rows and columns\n",
    "#stn_ds.describe()  ## Get summary statistics about your data\n",
    "#stn_ds[[\"Jan\"]].describe()  ## Summary statistics on particular columns as a dataframe\n",
    "#stn_ds[\"Jan\"].describe()  ## Summary statistics on particular columns as a series\n",
    "#stn_ds.sort_values(by=\"Jan\", ascending = False) ## Sort the data in descending order"
   ]
  },
  {
   "cell_type": "code",
   "execution_count": 47,
   "metadata": {},
   "outputs": [],
   "source": [
    "## Perform calculations on the columns\n",
    "\n",
    "#stn_ds[\"Jan\"] *= 273.15       ## multiplies each value in the column by the specified constant. Useful for uint conversions\n",
    "#stn_ds[\"Jan_Kelvin\"] = stn_ds[\"Jan\"] + 273.15  ## Insert new column and name it\n",
    "#stn_ds\n",
    "#col_mean = pd.DataFrame(stn_ds.mean(axis=0))\n",
    "#mon_nms = col_mean.index[1:13]\n",
    "#col_mean[0][1:13]"
   ]
  },
  {
   "cell_type": "code",
   "execution_count": 62,
   "metadata": {},
   "outputs": [],
   "source": [
    "# Plot the data\n",
    "f, ax = plt.subplots()\n",
    "\n",
    "ax.bar(x=mon_nms,\n",
    "       height=col_mean[0][1:13],\n",
    "        color=\"red\")\n",
    "\n",
    "ax.set(title=\"Monthly Average Temperature (degC)\")\n",
    "plt.show()"
   ]
  },
  {
   "cell_type": "code",
   "execution_count": 71,
   "metadata": {},
   "outputs": [],
   "source": [
    "## Inter-annual plot\n",
    "\n",
    "#col_nms = stn_ds.columns[1:13]\n",
    "#col_nms\n",
    "row_mean = pd.DataFrame(stn_ds[col_nms].mean(axis=1))\n",
    "#row_mean\n",
    "yr_col = stn_ds.columns[0]\n",
    "yrs = stn_ds[yr_col]; yrs"
   ]
  },
  {
   "cell_type": "code",
   "execution_count": 63,
   "metadata": {},
   "outputs": [],
   "source": [
    "# Plot the data\n",
    "f, ax = plt.subplots()\n",
    "\n",
    "ax.plot(yrs, row_mean, color=\"brown\")\n",
    "ax.set(title=\"Inter-Annual Average Temperature Variability (degC)\")\n",
    "plt.show()"
   ]
  },
  {
   "cell_type": "markdown",
   "metadata": {},
   "source": [
    "### Example 2: Read and Plot .csv Files"
   ]
  },
  {
   "cell_type": "code",
   "execution_count": 5,
   "metadata": {
    "scrolled": true
   },
   "outputs": [
    {
     "data": {
      "text/html": [
       "<div>\n",
       "<style scoped>\n",
       "    .dataframe tbody tr th:only-of-type {\n",
       "        vertical-align: middle;\n",
       "    }\n",
       "\n",
       "    .dataframe tbody tr th {\n",
       "        vertical-align: top;\n",
       "    }\n",
       "\n",
       "    .dataframe thead th {\n",
       "        text-align: right;\n",
       "    }\n",
       "</style>\n",
       "<table border=\"1\" class=\"dataframe\">\n",
       "  <thead>\n",
       "    <tr style=\"text-align: right;\">\n",
       "      <th></th>\n",
       "      <th>Year</th>\n",
       "      <th>Jan</th>\n",
       "      <th>Feb</th>\n",
       "      <th>Mar</th>\n",
       "      <th>Apr</th>\n",
       "      <th>May</th>\n",
       "      <th>Jun</th>\n",
       "      <th>Jul</th>\n",
       "      <th>Aug</th>\n",
       "      <th>Sep</th>\n",
       "      <th>Oct</th>\n",
       "      <th>Nov</th>\n",
       "      <th>Dec</th>\n",
       "    </tr>\n",
       "  </thead>\n",
       "  <tbody>\n",
       "    <tr>\n",
       "      <th>0</th>\n",
       "      <td>1901</td>\n",
       "      <td>15.8</td>\n",
       "      <td>18.3</td>\n",
       "      <td>21.9</td>\n",
       "      <td>26.3</td>\n",
       "      <td>25.2</td>\n",
       "      <td>24.6</td>\n",
       "      <td>22.5</td>\n",
       "      <td>22.0</td>\n",
       "      <td>21.8</td>\n",
       "      <td>21.3</td>\n",
       "      <td>20.2</td>\n",
       "      <td>19.1</td>\n",
       "    </tr>\n",
       "    <tr>\n",
       "      <th>1</th>\n",
       "      <td>1902</td>\n",
       "      <td>15.5</td>\n",
       "      <td>21.6</td>\n",
       "      <td>21.8</td>\n",
       "      <td>25.0</td>\n",
       "      <td>26.2</td>\n",
       "      <td>26.0</td>\n",
       "      <td>24.4</td>\n",
       "      <td>22.7</td>\n",
       "      <td>22.4</td>\n",
       "      <td>22.6</td>\n",
       "      <td>22.4</td>\n",
       "      <td>16.0</td>\n",
       "    </tr>\n",
       "    <tr>\n",
       "      <th>2</th>\n",
       "      <td>1903</td>\n",
       "      <td>16.9</td>\n",
       "      <td>21.6</td>\n",
       "      <td>21.0</td>\n",
       "      <td>23.4</td>\n",
       "      <td>26.0</td>\n",
       "      <td>24.0</td>\n",
       "      <td>22.4</td>\n",
       "      <td>22.0</td>\n",
       "      <td>21.8</td>\n",
       "      <td>-99.0</td>\n",
       "      <td>21.0</td>\n",
       "      <td>18.1</td>\n",
       "    </tr>\n",
       "    <tr>\n",
       "      <th>3</th>\n",
       "      <td>1904</td>\n",
       "      <td>17.4</td>\n",
       "      <td>18.1</td>\n",
       "      <td>21.9</td>\n",
       "      <td>25.5</td>\n",
       "      <td>26.8</td>\n",
       "      <td>24.3</td>\n",
       "      <td>21.9</td>\n",
       "      <td>22.1</td>\n",
       "      <td>22.1</td>\n",
       "      <td>24.2</td>\n",
       "      <td>21.5</td>\n",
       "      <td>17.8</td>\n",
       "    </tr>\n",
       "    <tr>\n",
       "      <th>4</th>\n",
       "      <td>1905</td>\n",
       "      <td>15.9</td>\n",
       "      <td>21.1</td>\n",
       "      <td>22.2</td>\n",
       "      <td>26.0</td>\n",
       "      <td>24.2</td>\n",
       "      <td>24.6</td>\n",
       "      <td>23.2</td>\n",
       "      <td>23.1</td>\n",
       "      <td>22.5</td>\n",
       "      <td>23.0</td>\n",
       "      <td>20.4</td>\n",
       "      <td>19.5</td>\n",
       "    </tr>\n",
       "    <tr>\n",
       "      <th>...</th>\n",
       "      <td>...</td>\n",
       "      <td>...</td>\n",
       "      <td>...</td>\n",
       "      <td>...</td>\n",
       "      <td>...</td>\n",
       "      <td>...</td>\n",
       "      <td>...</td>\n",
       "      <td>...</td>\n",
       "      <td>...</td>\n",
       "      <td>...</td>\n",
       "      <td>...</td>\n",
       "      <td>...</td>\n",
       "      <td>...</td>\n",
       "    </tr>\n",
       "    <tr>\n",
       "      <th>116</th>\n",
       "      <td>2017</td>\n",
       "      <td>15.2</td>\n",
       "      <td>17.2</td>\n",
       "      <td>19.8</td>\n",
       "      <td>22.6</td>\n",
       "      <td>24.0</td>\n",
       "      <td>29.8</td>\n",
       "      <td>28.7</td>\n",
       "      <td>29.9</td>\n",
       "      <td>28.6</td>\n",
       "      <td>25.6</td>\n",
       "      <td>23.0</td>\n",
       "      <td>16.9</td>\n",
       "    </tr>\n",
       "    <tr>\n",
       "      <th>117</th>\n",
       "      <td>2018</td>\n",
       "      <td>12.7</td>\n",
       "      <td>16.2</td>\n",
       "      <td>17.3</td>\n",
       "      <td>21.2</td>\n",
       "      <td>25.4</td>\n",
       "      <td>28.2</td>\n",
       "      <td>28.1</td>\n",
       "      <td>29.0</td>\n",
       "      <td>25.6</td>\n",
       "      <td>-99.0</td>\n",
       "      <td>16.2</td>\n",
       "      <td>14.8</td>\n",
       "    </tr>\n",
       "    <tr>\n",
       "      <th>118</th>\n",
       "      <td>2019</td>\n",
       "      <td>-99.0</td>\n",
       "      <td>15.5</td>\n",
       "      <td>16.6</td>\n",
       "      <td>-99.0</td>\n",
       "      <td>26.8</td>\n",
       "      <td>28.0</td>\n",
       "      <td>28.7</td>\n",
       "      <td>28.7</td>\n",
       "      <td>25.7</td>\n",
       "      <td>24.7</td>\n",
       "      <td>18.9</td>\n",
       "      <td>14.4</td>\n",
       "    </tr>\n",
       "    <tr>\n",
       "      <th>119</th>\n",
       "      <td>2020</td>\n",
       "      <td>14.1</td>\n",
       "      <td>15.5</td>\n",
       "      <td>18.5</td>\n",
       "      <td>20.1</td>\n",
       "      <td>24.6</td>\n",
       "      <td>-99.0</td>\n",
       "      <td>28.1</td>\n",
       "      <td>28.0</td>\n",
       "      <td>28.0</td>\n",
       "      <td>24.0</td>\n",
       "      <td>18.7</td>\n",
       "      <td>13.7</td>\n",
       "    </tr>\n",
       "    <tr>\n",
       "      <th>120</th>\n",
       "      <td>2021</td>\n",
       "      <td>14.0</td>\n",
       "      <td>15.7</td>\n",
       "      <td>18.9</td>\n",
       "      <td>24.9</td>\n",
       "      <td>26.2</td>\n",
       "      <td>27.7</td>\n",
       "      <td>28.7</td>\n",
       "      <td>29.6</td>\n",
       "      <td>27.8</td>\n",
       "      <td>27.8</td>\n",
       "      <td>18.1</td>\n",
       "      <td>16.9</td>\n",
       "    </tr>\n",
       "  </tbody>\n",
       "</table>\n",
       "<p>121 rows × 13 columns</p>\n",
       "</div>"
      ],
      "text/plain": [
       "     Year   Jan   Feb   Mar   Apr   May   Jun   Jul   Aug   Sep   Oct   Nov  \\\n",
       "0    1901  15.8  18.3  21.9  26.3  25.2  24.6  22.5  22.0  21.8  21.3  20.2   \n",
       "1    1902  15.5  21.6  21.8  25.0  26.2  26.0  24.4  22.7  22.4  22.6  22.4   \n",
       "2    1903  16.9  21.6  21.0  23.4  26.0  24.0  22.4  22.0  21.8 -99.0  21.0   \n",
       "3    1904  17.4  18.1  21.9  25.5  26.8  24.3  21.9  22.1  22.1  24.2  21.5   \n",
       "4    1905  15.9  21.1  22.2  26.0  24.2  24.6  23.2  23.1  22.5  23.0  20.4   \n",
       "..    ...   ...   ...   ...   ...   ...   ...   ...   ...   ...   ...   ...   \n",
       "116  2017  15.2  17.2  19.8  22.6  24.0  29.8  28.7  29.9  28.6  25.6  23.0   \n",
       "117  2018  12.7  16.2  17.3  21.2  25.4  28.2  28.1  29.0  25.6 -99.0  16.2   \n",
       "118  2019 -99.0  15.5  16.6 -99.0  26.8  28.0  28.7  28.7  25.7  24.7  18.9   \n",
       "119  2020  14.1  15.5  18.5  20.1  24.6 -99.0  28.1  28.0  28.0  24.0  18.7   \n",
       "120  2021  14.0  15.7  18.9  24.9  26.2  27.7  28.7  29.6  27.8  27.8  18.1   \n",
       "\n",
       "      Dec  \n",
       "0    19.1  \n",
       "1    16.0  \n",
       "2    18.1  \n",
       "3    17.8  \n",
       "4    19.5  \n",
       "..    ...  \n",
       "116  16.9  \n",
       "117  14.8  \n",
       "118  14.4  \n",
       "119  13.7  \n",
       "120  16.9  \n",
       "\n",
       "[121 rows x 13 columns]"
      ]
     },
     "execution_count": 5,
     "metadata": {},
     "output_type": "execute_result"
    }
   ],
   "source": [
    "## Anything begining with # is a comment and will not be executed!\n",
    "\n",
    "## Step 1: Define directories. The directories have already been defined\n",
    "\n",
    "## Define the data path\n",
    "\n",
    "home_dir = 'D:/Personal_Work/LVBC_Work/lvbc_training/Climate_Change_Training/'\n",
    "data_dir = 'data/'\n",
    "obs_dir = 'obs/'\n",
    "out_dir = 'data_out/'\n",
    "plot_dir = 'plots/'\n",
    "\n",
    "## Step 2: Read the .csv file\n",
    "\n",
    "Tmax_Addis = pd.read_csv(home_dir + data_dir + obs_dir + 'Tmax_monthly.csv')\n",
    "Tmin_Addis = pd.read_csv(home_dir + data_dir + obs_dir + 'Tmin_monthly.csv')\n",
    "\n",
    "Tmax_Addis             ## Shows a sneak preview of the data\n",
    "type(Tmax_Addis)       ## Check the class of the data that you have read into the memory\n",
    "Tmin_Addis\n",
    "#type(Tmin_Addis)       ## Check the class of the data that you have read into the memory\n"
   ]
  },
  {
   "cell_type": "code",
   "execution_count": 6,
   "metadata": {},
   "outputs": [],
   "source": [
    "## Step 3: Manipulating the csv data (DataFrame)\n",
    "\n",
    "months = ['Jan', 'Feb', 'Mar', 'Apr', 'May', 'Jun', 'Jul', 'Aug', 'Sep', 'Oct', 'Nov', 'Dec']     ## A list of all the months in a year\n",
    "\n",
    "## Lets assign all missing value codes to Nan\n",
    "\n",
    "Tmn_Addis = Tmin_Addis.replace(-99.0, np.NaN)                  ## Assign -99.0 code to missing values\n",
    "Tmx_Addis = Tmax_Addis.replace(-99.0, np.NaN)\n",
    "\n",
    "Tmn_dat = Tmn_Addis.dropna()       ## Delete all rows with missing values\n",
    "Tmx_dat = Tmx_Addis.dropna()       ## Delete all rows with missing values\n",
    "\n",
    "## Let's find the annual mean temperature: This means that we take the column means of all months\n",
    "\n",
    "Tmn_mon_ltm = Tmn_dat[months].mean(axis=1)      ## Axis=1 implies that we are calculating mean along columns\n",
    "Tmx_mon_ltm = Tmx_dat[months].mean(axis=1)\n"
   ]
  },
  {
   "cell_type": "code",
   "execution_count": null,
   "metadata": {},
   "outputs": [],
   "source": [
    "## Step 4: Saving output as .csv file\n",
    "\n",
    "df_Tmin = pd.concat([Tmn_dat['Year'], Tmn_mon_ltm], 1)        ## Concatenate the data along columns\n",
    "df_Tmax = pd.concat([Tmx_dat['Year'], Tmx_mon_ltm], 1)\n",
    "\n",
    "df_Tmin.columns = ('Year', 'Temp(degC)')                      ## Rename the columns\n",
    "df_Tmin.to_csv(home_dir + data_out + 'Addis_inter-annual_Tmin_climatology.csv', index_label=None)    ## Save the file in .csv format\n",
    "\n",
    "df_Tmax.columns = ('Year', 'Temp(degC)')                      ## Rename the columns\n",
    "df_Tmax.to_csv(home_dir + data_out + 'Addis_inter-annual_Tmax_climatology.csv', index_label=None)    ## Save the file in .csv format\n"
   ]
  },
  {
   "cell_type": "code",
   "execution_count": null,
   "metadata": {},
   "outputs": [],
   "source": [
    "## Step 5: Plot and save the output of the two variables  !!!!\n",
    "\n",
    "##Tmin\n",
    "\n",
    "plt.plot(df_Tmin['Year'], df_Tmin['Temp(degC)'], color='red')    # Plot the chart\n",
    "plt.title('Inter-annual Temperature: Addis')\n",
    "plt.xlabel('Years')\n",
    "plt.ylabel('Temperature (degC)')\n",
    "plt.savefig(home_dir + plot_out + 'Addis_Tmin_1901-2021.png')\n",
    "plt.show()  # display\n",
    "\n",
    "## Tmax\n",
    "plt.plot(df_Tmax['Year'], df_Tmax['Temp(degC)'], color='red')    # Plot the chart\n",
    "plt.title('Inter-annual Temperature: Addis')\n",
    "plt.xlabel('Years')\n",
    "plt.ylabel('Temperature (degC)')\n",
    "plt.savefig(home_dir + plot_out + 'Addis_Tmax_1901-2021.png')\n",
    "plt.show()  # display\n",
    "\n",
    "#Tmn_mon_ltm.plot.line(Tmn_dat['Year'], Tmn_mon_ltm, color='red')\n",
    "\n",
    "## Step 5: Plot and save the output of the two variables in one plot  !!!!\n",
    "\n",
    "plt.plot(df_Tmax['Year'], df_Tmax['Temp(degC)'], color='red')\n",
    "plt.plot(df_Tmin['Year'], df_Tmin['Temp(degC)'], color='blue')    # Plot the chart\n",
    "plt.title('Inter-annual Temperature: Addis')\n",
    "plt.xlabel('Years')\n",
    "plt.ylabel('Temperature (degC)')\n",
    "plt.savefig(home_dir + plot_out + 'Addis_Tmin_Tmax_1901-2021.png')   ## Save the output in a predefined folder\n",
    "plt.show()"
   ]
  },
  {
   "cell_type": "markdown",
   "metadata": {},
   "source": [
    "<div class=\"alert alert-block alert-info\">\n",
    "<b>Tip:</b> For more information on Pandas functionalities, kindly refer to the online documentation at: https://pandas.pydata.org/pandas-docs/stable/reference/io.html \n",
    "</div>"
   ]
  },
  {
   "cell_type": "markdown",
   "metadata": {},
   "source": [
    "***"
   ]
  },
  {
   "cell_type": "markdown",
   "metadata": {},
   "source": [
    "## 3. Analysing Gridded Network Common Data Form (NetCDF) Data "
   ]
  },
  {
   "cell_type": "markdown",
   "metadata": {},
   "source": [
    "There are several data formats for gridded datasets. Examples include Grib, HDF5, raster (geotiff). However, netcdf (.nc) remains the most preffered in climate science. NetCDF (network Common Data Form) is a file format for storing multidimensional and multivariable scientific data (variables) such as temperature, humidity, pressure, wind speed, and direction. It is a self describing data format which has the metadata embeded within each file. More specifically, NetCDF is a set of software libraries and self-describing, machine-independent data formats that support the creation, access, and sharing of array-oriented scientific data. It is also a community standard for sharing scientific data.\n",
    "\n",
    "Data in netCDF format is:\n",
    "\n",
    "    - Self-Describing: A netCDF file includes information about the data it contains.\n",
    "    - Portable: A netCDF file can be accessed by computers with different ways of storing integers, characters, and floating-point numbers.\n",
    "    - Scalable: Small subsets of large datasets in various formats may be accessed efficiently through netCDF interfaces, even from remote servers.\n",
    "    - Appendable: Data may be appended to a properly structured netCDF file without copying the dataset or redefining its structure.\n",
    "    - Sharable: One writer and multiple readers may simultaneously access the same netCDF file.\n",
    "    - Archivable: Access to all earlier forms of netCDF data will be supported by current and future versions of the software.\n",
    "\n",
    "**The above information was retrieved from the Unidata page (https://www.unidata.ucar.edu/software/netcdf/). Kindly visit the page for more informtion about this data format.**"
   ]
  },
  {
   "cell_type": "markdown",
   "metadata": {},
   "source": [
    "The data we are going to analyse is composed of merged staion records and satellite estimates data from the Climate Hazards Group InfraRed Precipitation with Stations (CHIRPS) data from the University of California at Santa Barbara  (url), while the model simulations data are based on the CORDEX which can be retrieved from any ESGF node after registration.\n",
    "\n",
    "In this part we will perform the analysis based on the following steps:\n",
    "\n",
    "    1. Import the appropriate modules to the Python environment\n",
    "    2. Define the data paths\n",
    "    3. Read in the data into Python environment\n",
    "    4. Subdet the data according to the climatology period of interest\n",
    "    5. Group the data into seasons (4)\n",
    "    6. Get the seasonal means of the data\n",
    "    7. Plot a sample of the data using appropriate modules\n",
    "    8. Get the biases associated with the model and plot\n",
    "    9. Assess the future changes in rainfall means for a season"
   ]
  },
  {
   "cell_type": "code",
   "execution_count": 3,
   "metadata": {},
   "outputs": [],
   "source": [
    "import xarray as xr"
   ]
  },
  {
   "cell_type": "code",
   "execution_count": 5,
   "metadata": {},
   "outputs": [],
   "source": [
    "## Define the data path\n",
    "\n",
    "home_dir = 'D:/Personal_Work/LVBC_Work/lvbc_training/Climate_Change_Training/'\n",
    "data_dir = 'data/'\n",
    "obs_dir = 'obs/'\n",
    "out_dir = 'data_out/'\n",
    "plot_dir = 'plots/'"
   ]
  },
  {
   "cell_type": "code",
   "execution_count": 25,
   "metadata": {},
   "outputs": [],
   "source": [
    "## Read in the netcdf data using the xarray library\n",
    "\n",
    "obs_ds = xr.open_dataset(home_dir + data_dir + 'obs/cru_ts3.22.1901.2013.pre.dat_regrd.nc')\n",
    "mod_hist = xr.open_dataset(home_dir + data_dir + 'hist/pr_MPI-ESM_RCA4_1951-2005_rg.nc')\n",
    "mod_rcp26 = xr.open_dataset(home_dir + data_dir + 'rcp26/pr_AFR-44_MPI-M-MPI-ESM-LR_rcp26_r1i1p1_SMHI-RCA4_v1_mon_20060101-21001231_rg.nc')\n",
    "#mod_rcp45 = xr.open_dataset(home_dir + data_dir + 'rcp45/pr_AFR-44_MPI-M-MPI-ESM-LR_rcp45_SMHI-RCA4__mon_2006-2100.nc')\n",
    "#mod_rcp85 = xr.open_dataset(home_dir + data_dir + 'rcp85/pr_AFR-44_MPI-M-MPI-ESM-LR_rcp85_SMHI-RCA4__mon_2006-2100.nc')"
   ]
  },
  {
   "cell_type": "code",
   "execution_count": 26,
   "metadata": {},
   "outputs": [],
   "source": [
    "# Sub-set the climatological periods (hist: 1971-2000, 2030: 2016-2045, 2050: 2036-3065, 2080: 2066-2095)\n",
    "\n",
    "obs_clim = obs_ds.sel(time=slice(\"1981-01-01\", \"2000-12-31\"))\n",
    "hist_clim = mod_hist.sel(time=slice(\"1981-01-01\", \"2000-12-31\"))\n",
    "rcp26_clim = mod_rcp26.sel(time=slice(\"2066-01-01\", \"2095-12-31\"))     ## Far future 2080 period\n",
    "#rcp45_clim = mod_rcp45.sel(time=slice(\"2066-01-01\", \"2095-12-31\"))\n",
    "#rcp85_clim = mod_rcp85.sel(time=slice(\"2066-01-01\", \"2095-12-31\"))"
   ]
  },
  {
   "cell_type": "code",
   "execution_count": 27,
   "metadata": {},
   "outputs": [],
   "source": [
    "## First resample the daily CHIRPS to monthly time scale then regroup the data into seasons for the seasonal analysis\n",
    "#obs_mon = obs_clim.resample(time=\"1M\").sum()               ## Resample daily to monthly\n",
    "\n",
    "obs_seas = obs_clim.groupby('time.season')                  ## Regrouping into seasons\n",
    "hist_seas = hist_clim.groupby('time.season')\n",
    "rcp26_seas = rcp26_clim.groupby('time.season')\n",
    "#rcp45_seas = rcp45_clim.groupby('time.season')\n",
    "#rcp85_seas = rcp85_clim.groupby('time.season')"
   ]
  },
  {
   "cell_type": "code",
   "execution_count": 28,
   "metadata": {},
   "outputs": [],
   "source": [
    "## The seasons to plot over\n",
    "obs_mam = obs_seas['MAM'].mean('time')\n",
    "hist_mam = hist_seas['MAM'].mean('time')"
   ]
  },
  {
   "cell_type": "code",
   "execution_count": 40,
   "metadata": {},
   "outputs": [],
   "source": [
    "## Let's compare the observed with the historical model simulation. We will first calculate the bias\n",
    "\n",
    "#hist_mam.pr*86400.*30"
   ]
  },
  {
   "cell_type": "code",
   "execution_count": 11,
   "metadata": {},
   "outputs": [],
   "source": [
    "## Plot single maps\n",
    "#mod_hist.pr.values*86400\n",
    "import cartopy.crs as ccrs\n",
    "import cartopy.feature as cfeat\n",
    "import numpy as np"
   ]
  },
  {
   "cell_type": "code",
   "execution_count": 41,
   "metadata": {},
   "outputs": [
    {
     "data": {
      "image/png": "[encoded data removed]",
      "text/plain": [
       "<Figure size 504x360 with 3 Axes>"
      ]
     },
     "metadata": {
      "needs_background": "light"
     },
     "output_type": "display_data"
    }
   ],
   "source": [
    "## Let's compare the observed and model rainfall climatology patterns\n",
    "\n",
    "fig = plt.figure(figsize=(7, 5))\n",
    "\n",
    "proj = ccrs.PlateCarree(central_longitude=0)\n",
    "#nrm = BoundaryNorm(np.linspace(0, 30, 11), plt.cm.YlGnBu.N)\n",
    "\n",
    "## Plot 1\n",
    "ax = plt.subplot(1,2,1, projection=proj)\n",
    "ax.add_feature(cfeat.BORDERS, linestyle='solid',linewidth=1.)\n",
    "ax.add_feature(cfeat.LAKES, facecolor='none', edgecolor='black',linewidth=1.)\n",
    "ax.add_feature(cfeat.COASTLINE,linewidth=1.)\n",
    "\n",
    "cs = plt.contourf(obs_mam.longitude, obs_mam.latitude, obs_mam.pre, cmap=plt.cm.Greens, levels=np.arange(0, 301, 30), extend='max')\n",
    "#cs = plt.contourf(lons, lats, ds_bias, cmap=plt.cm.RdYlGn, levels=np.arange(-55, 56, 10), extend='both') #extend='both'\n",
    "#ax.set_extent([25, 52, -5, 6])\n",
    "ax.set_xticks(range(25, 52, 5), crs=ccrs.PlateCarree(central_longitude=0))\n",
    "ax.set_yticks(range(-12, 23, 4), crs=ccrs.PlateCarree(central_longitude=0))\n",
    "lakes_50m = cfeat.NaturalEarthFeature('physical', 'lakes', '50m',edgecolor='k',facecolor='none')\n",
    "coastline_50m = cfeat.NaturalEarthFeature('physical', 'coastline', '50m',edgecolor='k',facecolor='none')\n",
    "ax.add_feature(lakes_50m, edgecolor='blue',facecolor='none',linewidth=0.8)\n",
    "#ax.xaxis.set_major_formatter(LONGITUDE_FORMATTER)\n",
    "#ax.yaxis.set_major_formatter(LATITUDE_FORMATTER)\n",
    "#labelsx = axa.get_xticklabels()\n",
    "#labelsy = axa.get_yticklabels()\n",
    "#plt.setp(labelsx, fontsize=10)\n",
    "#plt.setp(labelsy, fontsize=10)\n",
    "ax.set_title('CRU (MAM)', fontsize = 16)\n",
    "\n",
    "# Plot 2\n",
    "ax = plt.subplot(1,2,2, projection=proj)\n",
    "ax.add_feature(cfeat.BORDERS, linestyle='solid',linewidth=1.)\n",
    "ax.add_feature(cfeat.LAKES, facecolor='none', edgecolor='black',linewidth=1.)\n",
    "ax.add_feature(cfeat.COASTLINE,linewidth=1.)\n",
    "\n",
    "cs = plt.contourf(hist_mam.longitude, hist_mam.latitude, hist_mam.pr*86400.*30, cmap=plt.cm.Greens, levels=np.arange(0, 301, 30), extend='max')\n",
    "#cs = plt.contourf(lons, lats, ds_bias, cmap=plt.cm.RdYlGn, levels=np.arange(-55, 56, 10), extend='both') #extend='both'\n",
    "#ax.set_extent([33, 42, -5, 6])\n",
    "ax.set_xticks(range(25, 52, 5), crs=ccrs.PlateCarree(central_longitude=0))\n",
    "ax.set_yticks(range(-12, 23, 4), crs=ccrs.PlateCarree(central_longitude=0))\n",
    "lakes_50m = cfeat.NaturalEarthFeature('physical', 'lakes', '50m',edgecolor='k',facecolor='none')\n",
    "coastline_50m = cfeat.NaturalEarthFeature('physical', 'coastline', '50m',edgecolor='k',facecolor='none')\n",
    "ax.add_feature(lakes_50m, edgecolor='blue',facecolor='none',linewidth=0.8)\n",
    "#ax.xaxis.set_major_formatter(LONGITUDE_FORMATTER)\n",
    "#ax.yaxis.set_major_formatter(LATITUDE_FORMATTER)\n",
    "#labelsx = axa.get_xticklabels()\n",
    "#labelsy = axa.get_yticklabels()\n",
    "#plt.setp(labelsx, fontsize=10)\n",
    "#plt.setp(labelsy, fontsize=10)\n",
    "ax.set_title('Model (MAM)', fontsize = 16)\n",
    "\n",
    "# colorbars\n",
    "#plt.subplots_adjust(top=0.97, hspace = 0.001)   ## wspace = 0.05, \n",
    "#fig.subplots_adjust(bottom = 0.05)\n",
    "cax = fig.add_axes([0.19, 0.065, 0.7, 0.01])   ## [left, bottom, width, height]\n",
    "cb = plt.colorbar(cs, cax, orientation='horizontal', extend = 'max')\n",
    "#cb.set_label('mm', fontsize = 9, labelpad = -1)\n",
    "cb.set_label('mm hr$^{-1}$', fontsize = 12, labelpad = -1)\n",
    "\n",
    "#plt.savefig(home_dir + 'plots/' + 'obs_mam_model_climatology.png')\n",
    "plt.show()"
   ]
  },
  {
   "cell_type": "code",
   "execution_count": null,
   "metadata": {},
   "outputs": [],
   "source": [
    "## Lets analyze the model bias\n",
    "\n",
    "#xx = hist_mam.drop_vars('day_of_month_bnds')\n",
    "ds_bias = (hist_mam.pr.values*86400.*30) - obs_mam.precip.values"
   ]
  },
  {
   "cell_type": "code",
   "execution_count": 9,
   "metadata": {},
   "outputs": [],
   "source": [
    "## Get some variables to plot over\n",
    "\n",
    "lons = obs_mam.longitude.values\n",
    "lats = obs_mam.latitude.values"
   ]
  },
  {
   "cell_type": "code",
   "execution_count": null,
   "metadata": {
    "scrolled": true
   },
   "outputs": [],
   "source": [
    "## Let's add the bias to the above plot\n",
    "\n",
    "fig = plt.figure(figsize=(8, 5))\n",
    "\n",
    "proj = ccrs.PlateCarree(central_longitude=0)\n",
    "#nrm = BoundaryNorm(np.linspace(0, 30, 11), plt.cm.YlGnBu.N)\n",
    "\n",
    "## Plot is divide into (nrow by ncol): (1 row by 3 columns)\n",
    "\n",
    "## Plot 1: Observed climatology\n",
    "ax = plt.subplot(1,3,1, projection=proj)          ## first plot is allocated position 1 i.e on a panel defined by 1 row and 3 columns  \n",
    "ax.add_feature(cfeat.BORDERS, linestyle='solid',linewidth=1.)\n",
    "ax.add_feature(cfeat.LAKES, facecolor='none', edgecolor='black',linewidth=1.)\n",
    "ax.add_feature(cfeat.COASTLINE,linewidth=1.)\n",
    "cs = plt.contourf(obs_mam.precip, cmap=plt.cm.Greens, levels=np.arange(0, 21, 2), extend='max')\n",
    "#cs = plt.contourf(lons, lats, ds_bias, cmap=plt.cm.RdYlGn, levels=np.arange(-55, 56, 10), extend='both') #extend='both'\n",
    "ax.set_extent([33, 42, -5, 6])\n",
    "ax.set_xticks(range(33, 42, 2), crs=ccrs.PlateCarree(central_longitude=0))\n",
    "ax.set_yticks(range(-5, 6, 2), crs=ccrs.PlateCarree(central_longitude=0))\n",
    "lakes_50m = cfeat.NaturalEarthFeature('physical', 'lakes', '50m',edgecolor='k',facecolor='none')\n",
    "coastline_50m = cfeat.NaturalEarthFeature('physical', 'coastline', '50m',edgecolor='k',facecolor='none')\n",
    "ax.add_feature(lakes_50m, edgecolor='blue',facecolor='none',linewidth=0.8)\n",
    "#ax.xaxis.set_major_formatter(LONGITUDE_FORMATTER)\n",
    "#ax.yaxis.set_major_formatter(LATITUDE_FORMATTER)\n",
    "#labelsx = axa.get_xticklabels()\n",
    "#labelsy = axa.get_yticklabels()\n",
    "#plt.setp(labelsx, fontsize=10)\n",
    "#plt.setp(labelsy, fontsize=10)\n",
    "ax.set_title('CHIRPS (MAM)', fontsize = 16)\n",
    "\n",
    "# Plot 2: Model Climatology\n",
    "ax = plt.subplot(1,3,2, projection=proj)\n",
    "ax.add_feature(cfeat.BORDERS, linestyle='solid',linewidth=1.)\n",
    "ax.add_feature(cfeat.LAKES, facecolor='none', edgecolor='black',linewidth=1.)\n",
    "ax.add_feature(cfeat.COASTLINE,linewidth=1.)\n",
    "cs = plt.contourf(hist_mam.pr, cmap=plt.cm.Greens, levels=np.arange(0, 21, 2), extend='max')\n",
    "#cs = plt.contourf(lons, lats, ds_bias, cmap=plt.cm.RdYlGn, levels=np.arange(-55, 56, 10), extend='both') #extend='both'\n",
    "ax.set_extent([33, 42, -5, 6])\n",
    "ax.set_xticks(range(33, 42, 2), crs=ccrs.PlateCarree(central_longitude=0))\n",
    "ax.set_yticks(range(-5, 6, 2), crs=ccrs.PlateCarree(central_longitude=0))\n",
    "lakes_50m = cfeat.NaturalEarthFeature('physical', 'lakes', '50m',edgecolor='k',facecolor='none')\n",
    "coastline_50m = cfeat.NaturalEarthFeature('physical', 'coastline', '50m',edgecolor='k',facecolor='none')\n",
    "ax.add_feature(lakes_50m, edgecolor='blue',facecolor='none',linewidth=0.8)\n",
    "#ax.xaxis.set_major_formatter(LONGITUDE_FORMATTER)\n",
    "#ax.yaxis.set_major_formatter(LATITUDE_FORMATTER)\n",
    "#labelsx = axa.get_xticklabels()\n",
    "#labelsy = axa.get_yticklabels()\n",
    "#plt.setp(labelsx, fontsize=10)\n",
    "#plt.setp(labelsy, fontsize=10)\n",
    "ax.set_title('Model (MAM)', fontsize = 16)\n",
    "\n",
    "## Plot 3: Model Bias\n",
    "\n",
    "ax = plt.subplot(1,3,3, projection=proj)\n",
    "ax.add_feature(cfeat.BORDERS, linestyle='solid',linewidth=1.)\n",
    "ax.add_feature(cfeat.LAKES, facecolor='none', edgecolor='black',linewidth=1.)\n",
    "ax.add_feature(cfeat.COASTLINE,linewidth=1.)\n",
    "#cs = plt.contourf(obs_mam.precip, cmap=plt.cm.Greens, levels=np.arange(0, 21, 2), extend='max')\n",
    "cs1 = plt.contourf(lons, lats, ds_bias, cmap=plt.cm.RdYlGn, levels=np.arange(-55, 56, 10), extend='both') #extend='both'\n",
    "ax.set_extent([33, 42, -5, 6])\n",
    "ax.set_xticks(range(33, 42, 2), crs=ccrs.PlateCarree(central_longitude=0))\n",
    "ax.set_yticks(range(-5, 6, 2), crs=ccrs.PlateCarree(central_longitude=0))\n",
    "lakes_50m = cfeat.NaturalEarthFeature('physical', 'lakes', '50m',edgecolor='k',facecolor='none')\n",
    "coastline_50m = cfeat.NaturalEarthFeature('physical', 'coastline', '50m',edgecolor='k',facecolor='none')\n",
    "ax.add_feature(lakes_50m, edgecolor='blue',facecolor='none',linewidth=0.8)\n",
    "#ax.xaxis.set_major_formatter(LONGITUDE_FORMATTER)\n",
    "#ax.yaxis.set_major_formatter(LATITUDE_FORMATTER)\n",
    "#labelsx = axa.get_xticklabels()\n",
    "#labelsy = axa.get_yticklabels()\n",
    "#plt.setp(labelsx, fontsize=10)\n",
    "#plt.setp(labelsy, fontsize=10)\n",
    "ax.set_title('Model bias (MAM)', fontsize = 16)\n",
    "\n",
    "\n",
    "## colorbars for climatology and model bias\n",
    "## Colorbar 1: Climatology\n",
    "cax = fig.add_axes([0.14, 0.2, 0.47, 0.01])   ## [left, bottom, width, height]\n",
    "cb = plt.colorbar(cs, cax, orientation='horizontal', extend = 'max')\n",
    "#cb.set_label('mm', fontsize = 9, labelpad = -1)\n",
    "cb.set_label('mm hr$^{-1}$', fontsize = 12, labelpad = -1)\n",
    "\n",
    "## Colorbar 2: Model Bias\n",
    "cax = fig.add_axes([0.67, 0.2, 0.25, 0.01])   ## [left, bottom, width, height]\n",
    "cb1 = plt.colorbar(cs1, cax, orientation='horizontal', extend = 'both')\n",
    "#cb.set_label('mm', fontsize = 9, labelpad = -1)\n",
    "cb1.set_label('mm hr$^{-1}$', fontsize = 12, labelpad = -1)\n",
    "\n",
    "plt.savefig(home_dir + 'plots/' + 'obs_model_and_bias_mam.png')\n",
    "plt.show()"
   ]
  },
  {
   "cell_type": "markdown",
   "metadata": {},
   "source": [
    "<div class=\"alert alert-block alert-info\">\n",
    "<b>Tip:</b> The analysis for future changes in the mean climate follows the same pattern as above (Fut_climatology - hist_climatology) \n",
    "</div>"
   ]
  },
  {
   "cell_type": "code",
   "execution_count": null,
   "metadata": {},
   "outputs": [],
   "source": []
  }
 ],
 "metadata": {
  "kernelspec": {
   "display_name": "Python 3",
   "language": "python",
   "name": "python3"
  },
  "language_info": {
   "codemirror_mode": {
    "name": "ipython",
    "version": 3
   },
   "file_extension": ".py",
   "mimetype": "text/x-python",
   "name": "python",
   "nbconvert_exporter": "python",
   "pygments_lexer": "ipython3",
   "version": "3.7.6"
  }
 },
 "nbformat": 4,
 "nbformat_minor": 4
}
